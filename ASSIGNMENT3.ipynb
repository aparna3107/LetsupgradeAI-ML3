{
 "cells": [
  {
   "cell_type": "code",
   "execution_count": 13,
   "metadata": {},
   "outputs": [
    {
     "name": "stdout",
     "output_type": "stream",
     "text": [
      "3\n",
      "5\n",
      "7\n",
      "11\n",
      "13\n",
      "17\n",
      "19\n"
     ]
    }
   ],
   "source": [
    "#ASSIGNMENT 3 DAY(5)\n",
    "\n",
    "#QUESTION 1\n",
    "\n",
    "print(3)    #3 is the first non even prime number\n",
    "for i in range(3,20,2):\n",
    "    if i%2!=0 and i%3!=0:\n",
    "        print(i)\n",
    "    \n"
   ]
  },
  {
   "cell_type": "code",
   "execution_count": 14,
   "metadata": {},
   "outputs": [
    {
     "name": "stdout",
     "output_type": "stream",
     "text": [
      "HellOWorlD\n",
      "hELLo\n",
      "world\n",
      "HELLO\n",
      "True\n",
      "oellO\n",
      "5\n",
      "-1\n",
      "ell\n",
      "ellO\n",
      "Hel\n",
      "['he', '', 'o']\n",
      "p l h e\n",
      "2\n",
      "True\n"
     ]
    }
   ],
   "source": [
    "#QUESTION 2\n",
    "\n",
    "s1=\"HellO\"\n",
    "s2=\"WorlD\"\n",
    "print(s1+s2)\n",
    "print(s1.swapcase())\n",
    "print(s2.lower())\n",
    "print(s1.upper())\n",
    "print(s2.isalpha())\n",
    "print(s1.replace('H','o'))\n",
    "print(len(s1))\n",
    "print(s1.find('o'))\n",
    "print(s1[1:4])\n",
    "print(s1[1:])\n",
    "print(s1[:3])\n",
    "print(str.split(\"hello\",sep='l'))\n",
    "x=set(('h','e','l','p'))\n",
    "print(\" \".join(x))\n",
    "print(s1.count('l'))\n",
    "print(s1.startswith('HellO'))\n",
    "\n",
    "\n"
   ]
  },
  {
   "cell_type": "code",
   "execution_count": 15,
   "metadata": {},
   "outputs": [
    {
     "name": "stdout",
     "output_type": "stream",
     "text": [
      "enter the word aparna\n",
      "enter the second word anrapa\n",
      "given word is palindrome\n",
      "given word is anagram\n"
     ]
    }
   ],
   "source": [
    "#QUESTION 3\n",
    "\n",
    "A=input(\"enter the word \")\n",
    "B=input(\"enter the second word \")\n",
    "c=str(A[::-1])\n",
    "if c==B:\n",
    "    print('given word is palindrome')\n",
    "if (sorted(A)==sorted(B)):\n",
    "    print(\"given word is anagram\")\n",
    "else:\n",
    "    print(\"Neither palindrome nor anagram\")\n"
   ]
  },
  {
   "cell_type": "code",
   "execution_count": 18,
   "metadata": {},
   "outputs": [
    {
     "name": "stdout",
     "output_type": "stream",
     "text": [
      "enter the word:  Dr.Darshan Ingle@AI-ML Trainer\n",
      "dr.darshaningleaimltrainer\n"
     ]
    }
   ],
   "source": [
    "#QUESTION 4\n",
    "\n",
    "\n",
    "s1=input('enter the word: ')\n",
    "def remove(s1):\n",
    "    b=['&','$','*','%','#','@','!',' ','-']\n",
    "    for i in b:\n",
    "        s1=s1.replace(i,\"\")\n",
    "        s1=s1.lower()\n",
    "    return(s1)\n",
    "\n",
    "s2=remove(s1)\n",
    "print(s2)\n",
    "    \n",
    "   \n",
    "    \n",
    "    \n"
   ]
  },
  {
   "cell_type": "code",
   "execution_count": null,
   "metadata": {},
   "outputs": [],
   "source": []
  }
 ],
 "metadata": {
  "kernelspec": {
   "display_name": "Python 3",
   "language": "python",
   "name": "python3"
  },
  "language_info": {
   "codemirror_mode": {
    "name": "ipython",
    "version": 3
   },
   "file_extension": ".py",
   "mimetype": "text/x-python",
   "name": "python",
   "nbconvert_exporter": "python",
   "pygments_lexer": "ipython3",
   "version": "3.7.6"
  }
 },
 "nbformat": 4,
 "nbformat_minor": 4
}
